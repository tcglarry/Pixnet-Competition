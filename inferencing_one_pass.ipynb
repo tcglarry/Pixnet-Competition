{
 "cells": [
  {
   "cell_type": "code",
   "execution_count": 1,
   "metadata": {},
   "outputs": [
    {
     "name": "stderr",
     "output_type": "stream",
     "text": [
      "Using TensorFlow backend.\n"
     ]
    }
   ],
   "source": [
    "import numpy as np\n",
    "import tensorflow as tf\n",
    "#from tensorflow import keras\n",
    "from keras import Model\n",
    "\n",
    "import matplotlib.pyplot as plt\n",
    "import cv2\n",
    "from random import randint\n",
    "import subprocess\n",
    "\n",
    "from keras.layers import Input,Conv2D,Subtract, Lambda\n",
    "%matplotlib inline\n",
    "from keras.models import load_model\n",
    "import os\n",
    "import keras.backend as K\n",
    "import random\n",
    "from random import randint\n",
    "from shape_free_conv import build_model # model definition and build is here\n",
    "\n",
    "import skimage.io as ski_io\n"
   ]
  },
  {
   "cell_type": "code",
   "execution_count": 2,
   "metadata": {},
   "outputs": [],
   "source": [
    "\n",
    "\n",
    "\n",
    "\n",
    "src= '/Users/LarryGuo/Desktop/nano_degree/Capstone_PixNet/generative_inpainting-master/pix_quiz02/'  # you should change your dircetory\n",
    "\n",
    "\n",
    "\n"
   ]
  },
  {
   "cell_type": "code",
   "execution_count": 3,
   "metadata": {},
   "outputs": [],
   "source": [
    "# choosing an image "
   ]
  },
  {
   "cell_type": "code",
   "execution_count": 10,
   "metadata": {},
   "outputs": [
    {
     "name": "stdout",
     "output_type": "stream",
     "text": [
      "choice= 01\n",
      "/Users/LarryGuo/Desktop/nano_degree/Capstone_PixNet/generative_inpainting-master/pix_quiz02/output01_1000.jpg\n",
      "/Users/LarryGuo/Desktop/nano_degree/Capstone_PixNet/generative_inpainting-master/pix_quiz02/output01_2400.jpg\n",
      "/Users/LarryGuo/Desktop/nano_degree/Capstone_PixNet/generative_inpainting-master/pix_quiz02/output01_3600.jpg\n",
      "/Users/LarryGuo/Desktop/nano_degree/Capstone_PixNet/generative_inpainting-master/pix_quiz02/output01_5400.jpg\n",
      "/Users/LarryGuo/Desktop/nano_degree/Capstone_PixNet/generative_inpainting-master/pix_quiz02/output01_10000.jpg\n",
      "/Users/LarryGuo/Desktop/nano_degree/Capstone_PixNet/generative_inpainting-master/pix_quiz02/output01_25500.jpg\n"
     ]
    },
    {
     "data": {
      "image/png": "[encoded data removed]",
      "text/plain": [
       "<Figure size 432x288 with 1 Axes>"
      ]
     },
     "metadata": {},
     "output_type": "display_data"
    },
    {
     "data": {
      "image/png": "[encoded data removed]",
      "text/plain": [
       "<Figure size 432x288 with 8 Axes>"
      ]
     },
     "metadata": {},
     "output_type": "display_data"
    }
   ],
   "source": [
    "\n",
    "#img_list = ['01','02','03','04','05','06','07','08','09','10']\n",
    "\n",
    "img_list = ['01']\n",
    "#pick = random.choice (img_list)\n",
    "\n",
    "for pick in img_list: \n",
    "\n",
    "\n",
    "    mask = cv2.imread(src+'mask'+str(pick)+'.jpg')\n",
    "\n",
    "\n",
    "    mask_path = src+'mask'+str(pick)+'.jpg'\n",
    "    plt.imshow(mask)\n",
    "\n",
    "\n",
    "\n",
    "\n",
    "    print ('choice=',pick)\n",
    "    masked_img_path = src+'raw_image'+str(pick)+'.jpg'\n",
    "\n",
    "    masked_img = cv2.imread(src+'raw_image'+str(pick)+'.jpg')\n",
    "    #print (masked_img)\n",
    "    #plt.imshow(cv2.cvtColor(masked_img, cv2.COLOR_BGR2RGB))\n",
    "\n",
    "\n",
    "\n",
    "\n",
    "\n",
    "\n",
    "\n",
    "\n",
    "    output_img_path_0= src+'output'+str(pick)+'_0'+'.jpg'\n",
    "\n",
    "\n",
    "    # here should change ....too many times load model \n",
    "    subprocess.call(f\"python test.py --image {masked_img_path} --mask {mask_path} \\\n",
    "    --output {output_img_path_0} --checkpoint_dir model_logs/release_celeba_256 \", shell=True)\n",
    "\n",
    "    output_img_0 =  cv2.imread(output_img_path_0)\n",
    "    #print (output_img_0)\n",
    "    #plt.imshow(cv2.cvtColor(output_img_0, cv2.COLOR_BGR2RGB))\n",
    "\n",
    "\n",
    "\n",
    "    output_img_path_1000= src+'output'+str(pick)+'_1000'+'.jpg'\n",
    "    \n",
    "    print (output_img_path_1000)\n",
    "\n",
    "    # here should change ....too many times load model \n",
    "    subprocess.call(f\"python test.py --image {masked_img_path} --mask {mask_path} \\\n",
    "    --output {output_img_path_1000} --checkpoint_dir model_logs/release_imagenet_1000 \", shell=True)\n",
    "\n",
    "    output_img_1000 =  cv2.imread(output_img_path_1000)\n",
    "    #plt.imshow(cv2.cvtColor(output_img_1000, cv2.COLOR_BGR2RGB))\n",
    "\n",
    "\n",
    "    output_img_path_2400= src+'output'+str(pick)+'_2400'+'.jpg'\n",
    "    print (output_img_path_2400)\n",
    "        \n",
    "    # here should change ....too many times load model \n",
    "    subprocess.call(f\"python test.py --image {masked_img_path} --mask {mask_path} \\\n",
    "    --output {output_img_path_2400} --checkpoint_dir model_logs/release_imagenet_2400 \", shell=True)\n",
    "\n",
    "    output_img_2400 =  cv2.imread(output_img_path_2400)\n",
    "    #plt.imshow(cv2.cvtColor(output_img_2400, cv2.COLOR_BGR2RGB))\n",
    "\n",
    "\n",
    "\n",
    "    output_img_path_3600= src+'output'+str(pick)+'_3600'+'.jpg'\n",
    "    print (output_img_path_3600)\n",
    "    # here should change ....too many times load model \n",
    "    subprocess.call(f\"python test.py --image {masked_img_path} --mask {mask_path} \\\n",
    "    --output {output_img_path_3600} --checkpoint_dir model_logs/release_imagenet_3600 \", shell=True)\n",
    "\n",
    "    output_img_3600 =  cv2.imread(output_img_path_3600)\n",
    "    #plt.imshow(cv2.cvtColor(output_img_3600, cv2.COLOR_BGR2RGB))\n",
    "\n",
    "\n",
    "    output_img_path_5400= src+'output'+str(pick)+'_5400'+'.jpg'\n",
    "    print (output_img_path_5400)\n",
    "    # here should change ....too many times load model \n",
    "    subprocess.call(f\"python test.py --image {masked_img_path} --mask {mask_path} \\\n",
    "    --output {output_img_path_5400} --checkpoint_dir model_logs/release_imagenet_5400 \", shell=True)\n",
    "\n",
    "    output_img_5400 =  cv2.imread(output_img_path_5400)\n",
    "    #plt.imshow(cv2.cvtColor(output_img_5400, cv2.COLOR_BGR2RGB))\n",
    "    \n",
    "    \n",
    "    \n",
    "    output_img_path_10000= src+'output'+str(pick)+'_10000'+'.jpg' # 10000 from mickey\n",
    "    print (output_img_path_10000)\n",
    "    # here should change ....too many times load model \n",
    "    subprocess.call(f\"python test.py --image {masked_img_path} --mask {mask_path} \\\n",
    "    --output {output_img_path_10000} --checkpoint_dir model_logs/release_mickey_10000 \", shell=True)\n",
    "\n",
    "    output_img_10000 =  cv2.imread(output_img_path_10000)\n",
    "    \n",
    "    \n",
    "    \n",
    "    output_img_path_25500= src+'output'+str(pick)+'_25500'+'.jpg' # 25500 from mickey\n",
    "    print (output_img_path_25500)\n",
    "    # here should change ....too many times load model \n",
    "    subprocess.call(f\"python test.py --image {masked_img_path} --mask {mask_path} \\\n",
    "    --output {output_img_path_25500} --checkpoint_dir model_logs/release_mickey_25500 \", shell=True)\n",
    "\n",
    "    output_img_25500 =  cv2.imread(output_img_path_25500)\n",
    "    \n",
    "    \n",
    "    \n",
    "    # show the final result \n",
    "    \n",
    "    \n",
    "    \n",
    "    \n",
    "\n",
    "    f = plt.figure()\n",
    "    f.add_subplot(1,8, 1)\n",
    "    plt.imshow(cv2.cvtColor(masked_img, cv2.COLOR_BGR2RGB))\n",
    "\n",
    "\n",
    "\n",
    "\n",
    "    f.add_subplot(1,8, 2)\n",
    "    plt.imshow(cv2.cvtColor(output_img_0, cv2.COLOR_BGR2RGB))\n",
    "\n",
    "\n",
    "\n",
    "    f.add_subplot(1,8, 3)\n",
    "    plt.imshow(cv2.cvtColor(output_img_1000, cv2.COLOR_BGR2RGB))\n",
    "\n",
    "\n",
    "    f.add_subplot(1,8, 4)\n",
    "    plt.imshow(cv2.cvtColor(output_img_2400, cv2.COLOR_BGR2RGB))\n",
    "\n",
    "\n",
    "    f.add_subplot(1,8, 5)\n",
    "    plt.imshow(cv2.cvtColor(output_img_3600, cv2.COLOR_BGR2RGB))\n",
    "\n",
    " \n",
    "\n",
    "\n",
    "    f.add_subplot(1,8, 6)\n",
    "    plt.imshow(cv2.cvtColor(output_img_5400, cv2.COLOR_BGR2RGB))\n",
    "    \n",
    "    \n",
    "    \n",
    "\n",
    "    f.add_subplot(1,8, 7)\n",
    "    plt.imshow(cv2.cvtColor(output_img_10000, cv2.COLOR_BGR2RGB))\n",
    "    \n",
    "    \n",
    "    \n",
    "\n",
    "    f.add_subplot(1,8, 8)\n",
    "    plt.imshow(cv2.cvtColor(output_img_25500, cv2.COLOR_BGR2RGB))\n",
    "\n",
    "    plt.savefig(src+'compare_imagenet/'+'compare'+str(pick)+'.jpg')\n",
    "\n",
    "    plt.show(block=True)\n"
   ]
  },
  {
   "cell_type": "code",
   "execution_count": 8,
   "metadata": {},
   "outputs": [
    {
     "data": {
      "text/plain": [
       "<Figure size 432x288 with 0 Axes>"
      ]
     },
     "metadata": {},
     "output_type": "display_data"
    }
   ],
   "source": [
    "plt.savefig(src+'compare_imagenet/'+'compare'+str(pick)+'.jpg')\n",
    "\n",
    "plt.show(block=True)"
   ]
  },
  {
   "cell_type": "code",
   "execution_count": null,
   "metadata": {
    "collapsed": true
   },
   "outputs": [],
   "source": []
  },
  {
   "cell_type": "code",
   "execution_count": 8,
   "metadata": {},
   "outputs": [
    {
     "name": "stdout",
     "output_type": "stream",
     "text": [
      "None\n"
     ]
    },
    {
     "ename": "error",
     "evalue": "OpenCV(3.4.1) /Users/travis/miniconda3/conda-bld/opencv_1532437999739/work/modules/imgproc/src/color.cpp:11115: error: (-215) scn == 3 || scn == 4 in function cvtColor\n",
     "output_type": "error",
     "traceback": [
      "\u001b[0;31m---------------------------------------------------------------------------\u001b[0m",
      "\u001b[0;31merror\u001b[0m                                     Traceback (most recent call last)",
      "\u001b[0;32m<ipython-input-8-b0ad09cbeec0>\u001b[0m in \u001b[0;36m<module>\u001b[0;34m()\u001b[0m\n\u001b[1;32m     25\u001b[0m \u001b[0;34m\u001b[0m\u001b[0m\n\u001b[1;32m     26\u001b[0m \u001b[0mprint\u001b[0m \u001b[0;34m(\u001b[0m\u001b[0moutput_img_0\u001b[0m\u001b[0;34m)\u001b[0m\u001b[0;34m\u001b[0m\u001b[0m\n\u001b[0;32m---> 27\u001b[0;31m \u001b[0mplt\u001b[0m\u001b[0;34m.\u001b[0m\u001b[0mimshow\u001b[0m\u001b[0;34m(\u001b[0m\u001b[0mcv2\u001b[0m\u001b[0;34m.\u001b[0m\u001b[0mcvtColor\u001b[0m\u001b[0;34m(\u001b[0m\u001b[0moutput_img_0\u001b[0m\u001b[0;34m,\u001b[0m \u001b[0mcv2\u001b[0m\u001b[0;34m.\u001b[0m\u001b[0mCOLOR_BGR2RGB\u001b[0m\u001b[0;34m)\u001b[0m\u001b[0;34m)\u001b[0m\u001b[0;34m\u001b[0m\u001b[0m\n\u001b[0m\u001b[1;32m     28\u001b[0m \u001b[0;34m\u001b[0m\u001b[0m\n\u001b[1;32m     29\u001b[0m \u001b[0;34m\u001b[0m\u001b[0m\n",
      "\u001b[0;31merror\u001b[0m: OpenCV(3.4.1) /Users/travis/miniconda3/conda-bld/opencv_1532437999739/work/modules/imgproc/src/color.cpp:11115: error: (-215) scn == 3 || scn == 4 in function cvtColor\n"
     ]
    }
   ],
   "source": [
    "\n",
    "\n",
    "\n",
    "pick = 5\n",
    "\n",
    "mask = cv2.imread(src+'mask'+str(pick)+'.jpg')\n",
    "\n",
    "\n",
    "mask_path = src+'mask'+str(pick)+'.jpg'\n",
    "#plt.imshow(mask)\n",
    "\n",
    "masked_img_path = src+'raw_image'+str(pick)+'.jpg'\n",
    "\n",
    "masked_img = cv2.imread(src+'raw_image'+str(pick)+'.jpg')\n",
    "#print (masked_img)\n",
    "\n",
    "output_img_path_0= src+'output'+str(pick)+'_0'+'.jpg'\n",
    "\n",
    "\n",
    "# here should change ....too many times load model \n",
    "subprocess.call(f\"python test.py --image {masked_img_path} --mask {mask_path} \\\n",
    "--output {output_img_path_0} --checkpoint_dir model_logs/release_imagenet_256 \", shell=True)\n",
    "\n",
    "output_img_0 =  cv2.imread(output_img_path_0)\n",
    "\n",
    "\n",
    "print (output_img_0)\n",
    "plt.imshow(cv2.cvtColor(output_img_0, cv2.COLOR_BGR2RGB))\n",
    "\n",
    "\n",
    "'''\n",
    "print ('choice=',pick)\n",
    "masked_img_path = src+'raw_image'+str(pick)+'.jpg'\n",
    "\n",
    "masked_img = cv2.imread(src+'raw_image'+str(pick)+'.jpg')\n",
    "\n",
    "\n",
    "#mask_path = src+'mask'+str(pick)+'.jpg'\n",
    "#masked_img_path = src+'IMAG0726'+'.jpg'\n",
    "\n",
    "print (masked_img_path)\n",
    "output_img_path_ny= src+'output'+'_IMAGE0726'+'_ny'+'.jpg' # 10000 from mickey\n",
    "print (output_img_path_ny)\n",
    "# here should change ....too many times load model \n",
    "subprocess.call(f\"python test.py --image {masked_img_path} --mask {mask_path} \\\n",
    "--output {output_img_path_ny} --checkpoint_dir model_logs/release_imagenet_256\", shell=True)\n",
    "\n",
    "output_img_ny =  cv2.imread(output_img_path_ny)\n",
    "print (output_img_ny)\n",
    "plt.imshow(cv2.cvtColor(output_img_ny, cv2.COLOR_BGR2RGB))\n",
    "'''"
   ]
  },
  {
   "cell_type": "code",
   "execution_count": null,
   "metadata": {},
   "outputs": [],
   "source": []
  }
 ],
 "metadata": {
  "kernelspec": {
   "display_name": "Python (环境名称)",
   "language": "python",
   "name": "inpainting"
  },
  "language_info": {
   "codemirror_mode": {
    "name": "ipython",
    "version": 3
   },
   "file_extension": ".py",
   "mimetype": "text/x-python",
   "name": "python",
   "nbconvert_exporter": "python",
   "pygments_lexer": "ipython3",
   "version": "3.6.6"
  }
 },
 "nbformat": 4,
 "nbformat_minor": 2
}
